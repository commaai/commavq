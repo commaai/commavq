{
 "cells": [
  {
   "cell_type": "code",
   "execution_count": 2,
   "metadata": {},
   "outputs": [],
   "source": [
    "import sys\n",
    "sys.path.append('..')\n",
    "import torch\n",
    "import numpy as np\n",
    "from tqdm import trange\n",
    "from utils.video import read_video, transform_img\n",
    "from utils.vqvae import Encoder, CompressorConfig"
   ]
  },
  {
   "cell_type": "code",
   "execution_count": 3,
   "metadata": {},
   "outputs": [],
   "source": [
    "frames = read_video(\"../examples/sample_video_ecamera.hevc\")\n",
    "frames = np.array([transform_img(x) for x in frames])\n",
    "frames = torch.from_numpy(frames).permute(0,3,1,2).to(device='cuda').float()"
   ]
  },
  {
   "cell_type": "code",
   "execution_count": 4,
   "metadata": {},
   "outputs": [
    {
     "name": "stderr",
     "output_type": "stream",
     "text": [
      "Downloading: \"https://huggingface.co/commaai/commavq-gpt2m/resolve/main/encoder_pytorch_model.bin\" to /home/batman/.cache/torch/hub/checkpoints/encoder_pytorch_model.bin\n",
      "100%|██████████| 113M/113M [00:02<00:00, 51.1MB/s] \n"
     ]
    }
   ],
   "source": [
    "# load model\n",
    "config = CompressorConfig()\n",
    "with torch.device('meta'):\n",
    "  encoder = Encoder(config)\n",
    "encoder.load_state_dict_from_url('https://huggingface.co/commaai/commavq-gpt2m/resolve/main/encoder_pytorch_model.bin', assign=True)\n",
    "encoder = encoder.eval().to(device='cuda')"
   ]
  },
  {
   "cell_type": "code",
   "execution_count": 5,
   "metadata": {},
   "outputs": [
    {
     "name": "stderr",
     "output_type": "stream",
     "text": [
      "100%|██████████| 1200/1200 [00:08<00:00, 140.24it/s]\n"
     ]
    }
   ],
   "source": [
    "# encoding loop\n",
    "tokens = []\n",
    "with torch.no_grad():\n",
    "  for i in trange(len(frames)):\n",
    "    encoding_indices = encoder(frames[i][None].float())\n",
    "    tokens.append(encoding_indices)\n",
    "tokens = torch.cat(tokens, dim=0)"
   ]
  },
  {
   "cell_type": "code",
   "execution_count": 6,
   "metadata": {},
   "outputs": [],
   "source": [
    "# save the tokens! now head over to the decoding notebook\n",
    "tokens = tokens.cpu().numpy()\n",
    "np.save(\"../examples/tokens.npy\", tokens)"
   ]
  }
 ],
 "metadata": {
  "kernelspec": {
   "display_name": "Python 3",
   "language": "python",
   "name": "python3"
  },
  "language_info": {
   "codemirror_mode": {
    "name": "ipython",
    "version": 3
   },
   "file_extension": ".py",
   "mimetype": "text/x-python",
   "name": "python",
   "nbconvert_exporter": "python",
   "pygments_lexer": "ipython3",
   "version": "3.11.4"
  },
  "orig_nbformat": 4
 },
 "nbformat": 4,
 "nbformat_minor": 2
}
