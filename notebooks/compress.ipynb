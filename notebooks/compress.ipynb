{
 "cells": [
  {
   "cell_type": "code",
   "execution_count": 23,
   "metadata": {},
   "outputs": [
    {
     "name": "stdout",
     "output_type": "stream",
     "text": [
      "compression ratio for example:  1.4792899408284024\n"
     ]
    }
   ],
   "source": [
    "import numpy as np\n",
    "import lzma\n",
    "import multiprocessing\n",
    "num_proc = multiprocessing.cpu_count()\n",
    "\n",
    "def get_compression_rate(example):\n",
    "  tokens = np.load(example['path']).astype(np.int16)\n",
    "  compressed = lzma.compress(tokens.T.ravel().tobytes()) # transposing increases compression ratio ;)\n",
    "  example.update({'compression_rate': (tokens.size * 10 / 8) / len(compressed)}) # 10 bits per token\n",
    "  return example\n",
    "print(\"compression ratio for example: \", get_compression_rate({'path': \"../examples/tokens.npy\"})['compression_rate']) # 10 bits per token"
   ]
  },
  {
   "cell_type": "code",
   "execution_count": 24,
   "metadata": {},
   "outputs": [],
   "source": [
    "# load split 0,1,2,3 of the commavq dataset\n",
    "from datasets import load_dataset, DatasetDict\n",
    "splits = ['0', '1', '2', '3']\n",
    "ds = load_dataset('commaai/commavq', num_proc=num_proc, split=splits)\n",
    "ds = DatasetDict(zip(splits, ds))"
   ]
  },
  {
   "cell_type": "code",
   "execution_count": 25,
   "metadata": {},
   "outputs": [
    {
     "data": {
      "application/vnd.jupyter.widget-view+json": {
       "model_id": "31e93842716e48729fbacfe14174e93c",
       "version_major": 2,
       "version_minor": 0
      },
      "text/plain": [
       "computing compression ratio (num_proc=64):   0%|          | 0/2500 [00:00<?, ? examples/s]"
      ]
     },
     "metadata": {},
     "output_type": "display_data"
    },
    {
     "data": {
      "application/vnd.jupyter.widget-view+json": {
       "model_id": "78b4506b95854deeae8e866accddc44f",
       "version_major": 2,
       "version_minor": 0
      },
      "text/plain": [
       "computing compression ratio (num_proc=64):   0%|          | 0/2500 [00:00<?, ? examples/s]"
      ]
     },
     "metadata": {},
     "output_type": "display_data"
    },
    {
     "data": {
      "application/vnd.jupyter.widget-view+json": {
       "model_id": "4dddb2adb0dc4f64a5dd76075b02440e",
       "version_major": 2,
       "version_minor": 0
      },
      "text/plain": [
       "computing compression ratio (num_proc=64):   0%|          | 0/2500 [00:00<?, ? examples/s]"
      ]
     },
     "metadata": {},
     "output_type": "display_data"
    },
    {
     "data": {
      "application/vnd.jupyter.widget-view+json": {
       "model_id": "d3456e6c6cef426bb8ac54b3f2aace94",
       "version_major": 2,
       "version_minor": 0
      },
      "text/plain": [
       "computing compression ratio (num_proc=64):   0%|          | 0/2500 [00:00<?, ? examples/s]"
      ]
     },
     "metadata": {},
     "output_type": "display_data"
    }
   ],
   "source": [
    "ratios = ds.map(get_compression_rate, desc=\"computing compression ratio\", num_proc=num_proc, load_from_cache_file=False)"
   ]
  },
  {
   "cell_type": "code",
   "execution_count": 26,
   "metadata": {},
   "outputs": [
    {
     "name": "stdout",
     "output_type": "stream",
     "text": [
      "compression ratio:  1.6310833787228878\n"
     ]
    }
   ],
   "source": [
    "print(\"compression ratio: \", np.mean([ratios[s]['compression_rate'] for s in splits]))"
   ]
  }
 ],
 "metadata": {
  "kernelspec": {
   "display_name": "Python 3",
   "language": "python",
   "name": "python3"
  },
  "language_info": {
   "codemirror_mode": {
    "name": "ipython",
    "version": 3
   },
   "file_extension": ".py",
   "mimetype": "text/x-python",
   "name": "python",
   "nbconvert_exporter": "python",
   "pygments_lexer": "ipython3",
   "version": "3.11.4"
  }
 },
 "nbformat": 4,
 "nbformat_minor": 2
}
