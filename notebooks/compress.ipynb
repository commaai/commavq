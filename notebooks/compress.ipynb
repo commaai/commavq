{
 "cells": [
  {
   "cell_type": "code",
   "execution_count": 1,
   "metadata": {},
   "outputs": [
    {
     "name": "stdout",
     "output_type": "stream",
     "text": [
      "compression ratio for example:  1.4792899408284024\n"
     ]
    }
   ],
   "source": [
    "import numpy as np\n",
    "import lzma\n",
    "\n",
    "def get_compression_ratio(filename):\n",
    "  tokens = np.load(filename).astype(np.int16)\n",
    "  compressed = lzma.compress(tokens.T.ravel().tobytes()) # transposing increases compression ratio ;)\n",
    "  return (tokens.size * 10 / 8) / len(compressed) # 10 bits per token\n",
    "\n",
    "print(\"compression ratio for example: \", get_compression_ratio(\"../examples/tokens.npy\")) # 10 bits per token"
   ]
  },
  {
   "cell_type": "code",
   "execution_count": 2,
   "metadata": {},
   "outputs": [],
   "source": [
    "# load split 0 of the commavq dataset\n",
    "from datasets import load_dataset\n",
    "ds = load_dataset('commaai/commavq', num_proc=40, split=['0'])"
   ]
  },
  {
   "cell_type": "code",
   "execution_count": 3,
   "metadata": {},
   "outputs": [
    {
     "name": "stdout",
     "output_type": "stream",
     "text": [
      "compression ratio for split 0:  1.629573459229858\n"
     ]
    }
   ],
   "source": [
    "# run lzma in parallel\n",
    "from joblib import Parallel, delayed\n",
    "ratios = Parallel(n_jobs=-1)(delayed(get_compression_ratio)(x) for x in ds[0]['path'])\n",
    "print(\"compression ratio for split 0: \", np.mean(ratios))"
   ]
  }
 ],
 "metadata": {
  "kernelspec": {
   "display_name": "Python 3",
   "language": "python",
   "name": "python3"
  },
  "language_info": {
   "codemirror_mode": {
    "name": "ipython",
    "version": 3
   },
   "file_extension": ".py",
   "mimetype": "text/x-python",
   "name": "python",
   "nbconvert_exporter": "python",
   "pygments_lexer": "ipython3",
   "version": "3.11.4"
  }
 },
 "nbformat": 4,
 "nbformat_minor": 2
}
